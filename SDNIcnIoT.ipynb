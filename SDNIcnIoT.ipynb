{
 "cells": [
  {
   "cell_type": "code",
   "execution_count": 26,
   "metadata": {},
   "outputs": [
    {
     "name": "stdout",
     "output_type": "stream",
     "text": [
      "[4, 7, 6]\n"
     ]
    }
   ],
   "source": [
    "from time import sleep\n",
    "from random import random\n",
    "\n",
    "argv=['', '3', '3']\n",
    "\n",
    "_numOfNodes = int(argv[1])\n",
    "_numOfNodes *= _numOfNodes \n",
    "_numOfCommNodes = int(argv[2])\n",
    "_commNodesLst = []\n",
    "\n",
    "while _numOfCommNodes:\n",
    "    _numOfCommNodes -= 1\n",
    "    _tempVar = int(round(random() * _numOfNodes))\n",
    "    if _tempVar and _tempVar not in _commNodesLst :\n",
    "        _commNodesLst.append(_tempVar)\n",
    "    else :\n",
    "        _numOfCommNodes += 1\n",
    "\n",
    "print(_commNodesLst)"
   ]
  },
  {
   "cell_type": "code",
   "execution_count": 3,
   "metadata": {},
   "outputs": [
    {
     "name": "stdout",
     "output_type": "stream",
     "text": [
      "{'2': {'r': '4', 'v': ' 4,'}, '3': {'r': '8', 'v': '2,'}, '4': {'r': '4', 'v': '2,'}, '5': {'r': '4', 'v': '2, 4,'}, '6': {'r': '1', 'v': '2,'}, '7': {'r': '8', 'v': ' 4,'}, '8': {'r': '8', 'v': ' 4,'}}\n"
     ]
    }
   ],
   "source": [
    "def __networkMapper (self, strng):\n",
    "        dic = {}\n",
    "        downRouteFlag = False\n",
    "        i = 0\n",
    "        startNode = ''\n",
    "        if not isinstance(strng, str):\n",
    "            raise TypeError\n",
    "        while i < strng.__len__():\n",
    "            if strng[i] == '0' :\n",
    "                if strng[i+2] == 'r' :\n",
    "                    #logging.debug(\"[NMPPR][FUNC] {} dic {}\".format(i, dic))\n",
    "                    try:\n",
    "                        dic[strng[i+1]]['r'] = strng[i+3]\n",
    "                    except KeyError:\n",
    "                        dic[strng[i+1]] = dict(r=strng[i+3], v='')\n",
    "                    if downRouteFlag :\n",
    "                        dic[strng[i+1]]['v'] += startNode\n",
    "                i += 3\n",
    "            elif strng[i] == 'd':\n",
    "                downRouteFlag = True\n",
    "                startNode += strng[i-3] + ','\n",
    "                #logging.debug(\"[NMPPR][FUNC] startNode {}\".format(startNode))\n",
    "            elif strng[i] == 'D':\n",
    "                downRouteFlag = False\n",
    "                startNode = ' '\n",
    "            i += 1\n",
    "        return dic\n",
    "\n",
    "print(__networkMapper(self=None, strng='02r4d03r804r405r806r16D04r4d02r405r807r808r8D05r4D'))"
   ]
  },
  {
   "cell_type": "code",
   "execution_count": null,
   "metadata": {},
   "outputs": [
    {
     "ename": "ConnectionRefusedError",
     "evalue": "[Errno 111] Connection refused",
     "output_type": "error",
     "traceback": [
      "\u001b[0;31m---------------------------------------------------------------------------\u001b[0m",
      "\u001b[0;31mConnectionRefusedError\u001b[0m                    Traceback (most recent call last)",
      "\u001b[0;32m/tmp/ipykernel_11686/672287515.py\u001b[0m in \u001b[0;36m<module>\u001b[0;34m\u001b[0m\n\u001b[1;32m      5\u001b[0m \u001b[0mport\u001b[0m \u001b[0;34m=\u001b[0m \u001b[0;36m5001\u001b[0m\u001b[0;34m\u001b[0m\u001b[0;34m\u001b[0m\u001b[0m\n\u001b[1;32m      6\u001b[0m \u001b[0;34m\u001b[0m\u001b[0m\n\u001b[0;32m----> 7\u001b[0;31m \u001b[0ms\u001b[0m\u001b[0;34m.\u001b[0m\u001b[0mconnect\u001b[0m\u001b[0;34m(\u001b[0m\u001b[0;34m(\u001b[0m\u001b[0mhost\u001b[0m\u001b[0;34m,\u001b[0m \u001b[0mport\u001b[0m\u001b[0;34m)\u001b[0m\u001b[0;34m)\u001b[0m\u001b[0;34m\u001b[0m\u001b[0;34m\u001b[0m\u001b[0m\n\u001b[0m\u001b[1;32m      8\u001b[0m \u001b[0;32mwhile\u001b[0m \u001b[0;32mTrue\u001b[0m\u001b[0;34m:\u001b[0m\u001b[0;34m\u001b[0m\u001b[0;34m\u001b[0m\u001b[0m\n\u001b[1;32m      9\u001b[0m     \u001b[0;32mtry\u001b[0m\u001b[0;34m:\u001b[0m\u001b[0;34m\u001b[0m\u001b[0;34m\u001b[0m\u001b[0m\n",
      "\u001b[0;31mConnectionRefusedError\u001b[0m: [Errno 111] Connection refused"
     ]
    }
   ],
   "source": [
    "import socket              \n",
    "\n",
    "s = socket.socket()        \n",
    "host = '127.0.0.1' \n",
    "port = 5001               \n",
    "\n",
    "s.connect((host, port))\n",
    "while True: \n",
    "    try:\n",
    "        print(\"From Server: \", s.recv(1024))\n",
    "        s.send(\"Client please type: \")\n",
    "    except:\n",
    "        break\n",
    "s.close()"
   ]
  },
  {
   "cell_type": "code",
   "execution_count": 10,
   "metadata": {},
   "outputs": [
    {
     "ename": "KeyboardInterrupt",
     "evalue": "",
     "output_type": "error",
     "traceback": [
      "\u001b[0;31m---------------------------------------------------------------------------\u001b[0m",
      "\u001b[0;31mKeyboardInterrupt\u001b[0m                         Traceback (most recent call last)",
      "\u001b[0;32m/tmp/ipykernel_11686/3788515857.py\u001b[0m in \u001b[0;36m<module>\u001b[0;34m\u001b[0m\n\u001b[1;32m      7\u001b[0m \u001b[0;34m\u001b[0m\u001b[0m\n\u001b[1;32m      8\u001b[0m \u001b[0ms\u001b[0m\u001b[0;34m.\u001b[0m\u001b[0mlisten\u001b[0m\u001b[0;34m(\u001b[0m\u001b[0;36m5\u001b[0m\u001b[0;34m)\u001b[0m\u001b[0;34m\u001b[0m\u001b[0;34m\u001b[0m\u001b[0m\n\u001b[0;32m----> 9\u001b[0;31m \u001b[0mc\u001b[0m\u001b[0;34m,\u001b[0m \u001b[0maddr\u001b[0m \u001b[0;34m=\u001b[0m \u001b[0ms\u001b[0m\u001b[0;34m.\u001b[0m\u001b[0maccept\u001b[0m\u001b[0;34m(\u001b[0m\u001b[0;34m)\u001b[0m\u001b[0;34m\u001b[0m\u001b[0;34m\u001b[0m\u001b[0m\n\u001b[0m\u001b[1;32m     10\u001b[0m \u001b[0mprint\u001b[0m\u001b[0;34m(\u001b[0m\u001b[0;34m'Got connection from'\u001b[0m\u001b[0;34m,\u001b[0m \u001b[0maddr\u001b[0m\u001b[0;34m)\u001b[0m\u001b[0;34m\u001b[0m\u001b[0;34m\u001b[0m\u001b[0m\n\u001b[1;32m     11\u001b[0m \u001b[0;32mwhile\u001b[0m \u001b[0;32mTrue\u001b[0m\u001b[0;34m:\u001b[0m\u001b[0;34m\u001b[0m\u001b[0;34m\u001b[0m\u001b[0m\n",
      "\u001b[0;32m/usr/lib/python3.8/socket.py\u001b[0m in \u001b[0;36maccept\u001b[0;34m(self)\u001b[0m\n\u001b[1;32m    290\u001b[0m         \u001b[0mFor\u001b[0m \u001b[0mIP\u001b[0m \u001b[0msockets\u001b[0m\u001b[0;34m,\u001b[0m \u001b[0mthe\u001b[0m \u001b[0maddress\u001b[0m \u001b[0minfo\u001b[0m \u001b[0;32mis\u001b[0m \u001b[0ma\u001b[0m \u001b[0mpair\u001b[0m \u001b[0;34m(\u001b[0m\u001b[0mhostaddr\u001b[0m\u001b[0;34m,\u001b[0m \u001b[0mport\u001b[0m\u001b[0;34m)\u001b[0m\u001b[0;34m.\u001b[0m\u001b[0;34m\u001b[0m\u001b[0;34m\u001b[0m\u001b[0m\n\u001b[1;32m    291\u001b[0m         \"\"\"\n\u001b[0;32m--> 292\u001b[0;31m         \u001b[0mfd\u001b[0m\u001b[0;34m,\u001b[0m \u001b[0maddr\u001b[0m \u001b[0;34m=\u001b[0m \u001b[0mself\u001b[0m\u001b[0;34m.\u001b[0m\u001b[0m_accept\u001b[0m\u001b[0;34m(\u001b[0m\u001b[0;34m)\u001b[0m\u001b[0;34m\u001b[0m\u001b[0;34m\u001b[0m\u001b[0m\n\u001b[0m\u001b[1;32m    293\u001b[0m         \u001b[0msock\u001b[0m \u001b[0;34m=\u001b[0m \u001b[0msocket\u001b[0m\u001b[0;34m(\u001b[0m\u001b[0mself\u001b[0m\u001b[0;34m.\u001b[0m\u001b[0mfamily\u001b[0m\u001b[0;34m,\u001b[0m \u001b[0mself\u001b[0m\u001b[0;34m.\u001b[0m\u001b[0mtype\u001b[0m\u001b[0;34m,\u001b[0m \u001b[0mself\u001b[0m\u001b[0;34m.\u001b[0m\u001b[0mproto\u001b[0m\u001b[0;34m,\u001b[0m \u001b[0mfileno\u001b[0m\u001b[0;34m=\u001b[0m\u001b[0mfd\u001b[0m\u001b[0;34m)\u001b[0m\u001b[0;34m\u001b[0m\u001b[0;34m\u001b[0m\u001b[0m\n\u001b[1;32m    294\u001b[0m         \u001b[0;31m# Issue #7995: if no default timeout is set and the listening\u001b[0m\u001b[0;34m\u001b[0m\u001b[0;34m\u001b[0m\u001b[0;34m\u001b[0m\u001b[0m\n",
      "\u001b[0;31mKeyboardInterrupt\u001b[0m: "
     ]
    }
   ],
   "source": [
    "import socket               \n",
    "\n",
    "s = socket.socket()         # Create a socket object\n",
    "host = '127.0.0.1'    #private ip address of machine running fedora\n",
    "port = 5006         \n",
    "s.bind((host, port))       \n",
    "\n",
    "s.listen(5)                \n",
    "c, addr = s.accept()       \n",
    "print('Got connection from', addr)\n",
    "while True:\n",
    "   c.send(\"Server please type: \")\n",
    "   print(\"From Client: \", c.recv(1024))\n",
    "\n",
    "c.close()"
   ]
  },
  {
   "cell_type": "code",
   "execution_count": 56,
   "metadata": {},
   "outputs": [
    {
     "name": "stdout",
     "output_type": "stream",
     "text": [
      "{'1': {'r': '2'}, '2': {'r': '4', 'v': [['1'], ['1', '4'], ['1', '5']]}, '4': {'r': '4', 'v': [['1'], ['1', '2'], ['1', '5']]}, '5': {'r': '4', 'v': [['1'], ['1', '4'], ['1', '2']]}, '3': {'r': '8', 'v': [['1', '2'], ['1', '5']]}, '6': {'r': '8', 'v': [['1', '2'], ['1', '5']]}, '7': {'r': '8', 'v': [['1', '5']]}}\n",
      "{'1': {'r': '2'}, '2': {'r': '4', 'v': [['1'], ['1', '4'], ['1', '5']]}, '4': {'r': '4', 'v': [['1'], ['1', '2'], ['1', '5']]}, '5': {'r': '4', 'v': [['1'], ['1', '4'], ['1', '2'], ['1', '2', '6']]}, '3': {'r': '8', 'v': [['1', '2'], ['1', '5'], ['1', '2', '6']]}, '6': {'r': '8', 'v': [['1', '2'], ['1', '5']]}, '7': {'r': '8', 'v': [['1', '5'], ['1', '4']]}, '8': {'r': '8', 'v': [['1', '5'], ['1', '4'], ['1', '2', '6']]}, '9': {'r': '8', 'v': [['1', '5'], ['1', '2', '6']]}}\n"
     ]
    }
   ],
   "source": [
    "import json\n",
    "\n",
    "m1 = {'1': {'r': '2', 'v': ''}, '2': {'r': '4', 'v': ' 1, 1,4,  5, 1,5,'}, '4': {'r': '4', 'v': ' 1,  5, 1,2, 1,5,'}, '5': {'r': '4', 'v': ' 1, 1,4, 1,2,'}, '3': {'r': '8', 'v': '  5, 1,2, 1,5,'}, '6': {'r': '8', 'v': ' 1,2, 1,5,'}, '7': {'r': '8', 'v': ' 1,5,'}}\n",
    "m2 = {'1': {'r': '2', 'v': ''}, '2': {'r': '4', 'v': ' 1,  5, 1,5,  4, 1,4,'}, '4': {'r': '4', 'v': ' 1, 1,2,  5, 1,5,'}, '5': {'r': '4', 'v': ' 1, 1,2,  4, 1,4,  5,6, 1,2,6,'}, '3': {'r': '8', 'v': ' 1,2,  5, 1,5, 1,2,6,'}, '6': {'r': '8', 'v': ' 1,2,  5, 1,5,  5,8,'}, '7': {'r': '8', 'v': '  4,  5, 1,5, 1,4,  5,8,'}, '8': {'r': '8', 'v': '  4,  5, 1,5, 1,4, 1,2,6,'}, '9': {'r': '8', 'v': ' 1,5, 1,2,6,  5,  5,8,'}}\n",
    "\n",
    "dic = {}\n",
    "\n",
    "def networkMapCleaner(networkMap):\n",
    "    for i in networkMap.keys() :\n",
    "        try:\n",
    "            dic[i]['r'] =  networkMap[i]['r']\n",
    "        except KeyError :\n",
    "            dic[i] = dict(r=networkMap[i]['r'])\n",
    "        via = networkMap[i]['v']\n",
    "        via = [ [ y for y in x.split(',') if y ] for x in via.split(' ') if x ]\n",
    "        #print('Before', i, ' ', networkMap[i]['r'], ' ', via)\n",
    "        j = via.__len__()\n",
    "        while j :\n",
    "            j -= 1\n",
    "            if networkMap[via[j][0]]['r'] != '2' or i in networkMap[via[j]] :\n",
    "                via.remove(via[j])\n",
    "        try:\n",
    "            gen = (x for x in via if x not in dic[i]['v'])\n",
    "            for x in gen :\n",
    "                dic[i]['v'].append(x) \n",
    "        except KeyError :\n",
    "            dic[i]['v'] = via\n",
    "        #print('After ',i, ' ', dic[i]['r'], ' ', via, '\\n')\n",
    "    print(dic)\n",
    "\n",
    "networkMapCleaner(m1)\n",
    "networkMapCleaner(m2)"
   ]
  }
 ],
 "metadata": {
  "interpreter": {
   "hash": "916dbcbb3f70747c44a77c7bcd40155683ae19c65e1c03b4aa3499c5328201f1"
  },
  "kernelspec": {
   "display_name": "Python 3.8.10 64-bit",
   "language": "python",
   "name": "python3"
  },
  "language_info": {
   "codemirror_mode": {
    "name": "ipython",
    "version": 3
   },
   "file_extension": ".py",
   "mimetype": "text/x-python",
   "name": "python",
   "nbconvert_exporter": "python",
   "pygments_lexer": "ipython3",
   "version": "3.8.10"
  },
  "orig_nbformat": 4
 },
 "nbformat": 4,
 "nbformat_minor": 2
}
