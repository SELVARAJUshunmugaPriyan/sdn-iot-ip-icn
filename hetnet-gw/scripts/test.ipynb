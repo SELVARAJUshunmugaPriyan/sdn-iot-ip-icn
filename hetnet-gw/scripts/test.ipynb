{
 "cells": [
  {
   "cell_type": "code",
   "execution_count": 10,
   "metadata": {},
   "outputs": [],
   "source": [
    "import binascii\n",
    "with open('/sys/class/net/wpan0/address', 'r') as f :\n",
    "    _strng = f.readline()\n",
    "    _strng = b''.join(binascii.unhexlify(x) for x in _strng[:-1].split(':'))\n",
    "    _sndBfr = b'\\x41\\xc8\\x00\\xff\\xff\\xff\\xff'\n",
    "    _sndBfr += _strng + b'\\x06\\x0d\\x07\\x03\\x08\\x01' + bytes(int('0')) + b'\\x14\\x01' + bytes(int('0')) + b'\\x16\\x01\\xff'"
   ]
  },
  {
   "cell_type": "code",
   "execution_count": null,
   "metadata": {},
   "outputs": [],
   "source": [
    "import socket\n",
    "l2_sock = socket.socket(socket.AF_PACKET, socket.SOCK_RAW, socket.ntohs(0x0003))\n",
    "l2_sock.bind(('wpan0', 0, socket.PACKET_BROADCAST))\n",
    "l2_sock.setblocking(0)"
   ]
  },
  {
   "cell_type": "code",
   "execution_count": null,
   "metadata": {},
   "outputs": [],
   "source": [
    "with open('/home/priyan/github-repo-offline/sdn-iot-ip-icn/hetnet-gw/logs/15_4-ccn/wpan2.log', 'r') as f : \n",
    "    for line in f.readlines() :\n",
    "        if 'message' in line :\n",
    "            frame = line[73:-3].encode('utf8')\n",
    "            frame = frame.decode('unicode-escape')\n",
    "            frame = [ x for x in frame ]\n",
    "            print(frame, '\\t', ord(frame[-4]))"
   ]
  },
  {
   "cell_type": "code",
   "execution_count": null,
   "metadata": {},
   "outputs": [],
   "source": [
    "\"29/12/2022 19:09:20-INFO-15_4-ccn.py-90 Total sent bytes 28 - message: \".__len__()"
   ]
  },
  {
   "cell_type": "code",
   "execution_count": null,
   "metadata": {},
   "outputs": [],
   "source": [
    "print(_sndBfr)"
   ]
  },
  {
   "cell_type": "code",
   "execution_count": null,
   "metadata": {},
   "outputs": [],
   "source": [
    "import socket\n",
    "with socket.socket(socket.AF_INET, socket.SOCK_DGRAM) as s:\n",
    "    s.bind(('10.0.0.6', 65432))\n",
    "    while True:\n",
    "        data, addr = s.recvfrom(1024)\n",
    "        print(f\"Got {data} from {addr}\")\n",
    "        s.sendto(data, addr)\n"
   ]
  },
  {
   "cell_type": "code",
   "execution_count": null,
   "metadata": {},
   "outputs": [],
   "source": [
    "a = 1\n",
    "a.to_bytes(1, 'little')"
   ]
  },
  {
   "cell_type": "code",
   "execution_count": null,
   "metadata": {},
   "outputs": [],
   "source": [
    "from select import select\n",
    "from threading import Thread\n",
    "from time import sleep\n",
    "import socket\n",
    "import threading\n",
    "\n",
    "ndn154Sock = socket.socket(socket.AF_INET, socket.SOCK_DGRAM)\n",
    "ndn154Sock.bind(('127.0.0.1', 65433))\n",
    "\n",
    "it, jt = (0, 0)\n",
    "\n",
    "def send(stop):\n",
    "    global jt, it\n",
    "    while True:\n",
    "        jt = 0\n",
    "        inputReady, e, o = select([ndn154Sock], [], [], 0.0)\n",
    "        it += 1\n",
    "        print(it, \"\\tInput ready\")\n",
    "        if stop():\n",
    "            break\n",
    "        #sleep(1)\n",
    "\n",
    "def receive(stop):\n",
    "    global jt, it\n",
    "    while True:\n",
    "        it = 0\n",
    "        i, outptReddy, o = select([], [ndn154Sock], [], 0.0)\n",
    "        jt += 1\n",
    "        print(jt, \"\\tOutput ready\")\n",
    "        if stop():\n",
    "            break\n",
    "        #sleep(1)\n",
    "\n",
    "stop_threads = False\n",
    "Thread(target=send, args=(lambda : stop_threads, )).start()\n",
    "Thread(target=receive, args=(lambda : stop_threads, )).start()\n",
    "sleep(10)\n",
    "stop_threads = True\n"
   ]
  },
  {
   "cell_type": "code",
   "execution_count": null,
   "metadata": {},
   "outputs": [],
   "source": [
    "with open('/home/priyan/github-repo-offline/sdn-iot-ip-icn/hetnet-gw/logs/wifi-IP/readWriteSockTest.log', 'r') as f :\n",
    "    _readCount, _writeCount = (0, 0)\n",
    "    _indCycleReadCount, _indCycleWriteCount = (0, 0)\n",
    "    _indCycleReadCounts, _indCycleWriteCounts = ([], [])\n",
    "    _changeOver = False\n",
    "    for line in f.readlines():\n",
    "        if 'In' in line :\n",
    "            _readCount += 1\n",
    "            _changeOver = True\n",
    "        else :\n",
    "            _writeCount += 1\n",
    "            _changeOver = False\n",
    "        if _changeOver :\n",
    "            if _indCycleWriteCount :\n",
    "                _indCycleWriteCounts.append(_indCycleWriteCount)\n",
    "                _indCycleWriteCount = 0\n",
    "            _indCycleReadCount += 1\n",
    "        else :\n",
    "            if _indCycleReadCount :\n",
    "                _indCycleReadCounts.append(_indCycleReadCount)\n",
    "                _indCycleReadCount = 0\n",
    "            _indCycleWriteCount += 1\n",
    "    print(\"Total counts (read, write, read\\%, write\\%):\",\n",
    "    _readCount, _writeCount, \n",
    "    round(_readCount/(_readCount + _writeCount), 4) * 100, \n",
    "    round(_writeCount/(_readCount + _writeCount), 4) * 100)\n",
    "    #print(_indCycleReadCounts, _indCycleWriteCounts)\n",
    "    print(\"Maximum count per cycle (read, write):\", max(_indCycleReadCounts), max(_indCycleWriteCounts))\n",
    "    print(\"Minimum count per cycle (read, write):\", min(_indCycleReadCounts), min(_indCycleWriteCounts))\n",
    "    print(\"Mean count per cycle (read, write):\", round(sum(_indCycleReadCounts)/_indCycleReadCounts.__len__(), 2), round(sum(_indCycleWriteCounts)/_indCycleWriteCounts.__len__(), 2))"
   ]
  }
 ],
 "metadata": {
  "kernelspec": {
   "display_name": "Python 3",
   "language": "python",
   "name": "python3"
  },
  "language_info": {
   "codemirror_mode": {
    "name": "ipython",
    "version": 3
   },
   "file_extension": ".py",
   "mimetype": "text/x-python",
   "name": "python",
   "nbconvert_exporter": "python",
   "pygments_lexer": "ipython3",
   "version": "3.10.6 (main, Nov 14 2022, 16:10:14) [GCC 11.3.0]"
  },
  "orig_nbformat": 4,
  "vscode": {
   "interpreter": {
    "hash": "e7370f93d1d0cde622a1f8e1c04877d8463912d04d973331ad4851f04de6915a"
   }
  }
 },
 "nbformat": 4,
 "nbformat_minor": 2
}
